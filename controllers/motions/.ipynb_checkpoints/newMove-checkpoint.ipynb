{
 "cells": [
  {
   "cell_type": "code",
   "execution_count": 1,
   "id": "6c18769a",
   "metadata": {},
   "outputs": [],
   "source": [
    "import pandas as pd\n",
    "import glob\n",
    "import numpy as np"
   ]
  },
  {
   "cell_type": "code",
   "execution_count": 2,
   "id": "971bda2e",
   "metadata": {},
   "outputs": [
    {
     "name": "stdout",
     "output_type": "stream",
     "text": [
      "42 \n",
      " ['#WEBOTS_MOTION', 'HeadPitch', 'HeadYaw', 'LAnklePitch', 'LAnkleRoll', 'LElbowRoll', 'LElbowYaw', 'LHipPitch', 'LHipRoll', 'LHipYawPitch', 'LKneePitch', 'LPhalanx1', 'LPhalanx2', 'LPhalanx3', 'LPhalanx4', 'LPhalanx5', 'LPhalanx6', 'LPhalanx7', 'LPhalanx8', 'LShoulderPitch', 'LShoulderRoll', 'LWristYaw', 'RAnklePitch', 'RAnkleRoll', 'RElbowRoll', 'RElbowYaw', 'RHipPitch', 'RHipRoll', 'RHipYawPitch', 'RKneePitch', 'RPhalanx1', 'RPhalanx2', 'RPhalanx3', 'RPhalanx4', 'RPhalanx5', 'RPhalanx6', 'RPhalanx7', 'RPhalanx8', 'RShoulderPitch', 'RShoulderRoll', 'RWristYaw', 'V1.0']\n",
      "['Backwards', 'ForwardLoop', 'Forwards', 'Forwards50', 'GetUpBack', 'GetUpFront', 'HandWave', 'HandWave2', 'Shoot', 'SideStepLeft', 'SideStepLeftLoop', 'SideStepRight', 'SideStepRightLoop', 'Stand', 'StandUpFromFront', 'TaiChi', 'TestMove', 'TurnLeft180', 'TurnLeft20', 'TurnLeft40', 'TurnLeft60', 'TurnRight20', 'TurnRight40', 'TurnRight60', 'WipeForehead']\n"
     ]
    }
   ],
   "source": [
    "# generate motion & motor lists\n",
    "all_files = glob.glob(\"*.motion\")\n",
    "motors=[]\n",
    "motion=[]\n",
    "for filename in all_files:\n",
    "    motion.append(filename.split('.')[0])\n",
    "    tlist=list(pd.read_csv(filename).columns)\n",
    "    motors= list(set(motors) | set(tlist)) \n",
    "    #print(len(tlist))\n",
    "motors.sort()\n",
    "print(len(motors),'\\n',motors)\n",
    "print(motion)"
   ]
  },
  {
   "cell_type": "code",
   "execution_count": 75,
   "id": "5b87cfe0",
   "metadata": {},
   "outputs": [
    {
     "name": "stdout",
     "output_type": "stream",
     "text": [
      "66\n"
     ]
    }
   ],
   "source": [
    "#df=pd.read_csv('HandWave.motion')[['#WEBOTS_MOTION','V1.0']].head(1)\n",
    "df=pd.read_csv('Forwards.motion')\n",
    "L=len(df)\n",
    "print(L)"
   ]
  },
  {
   "cell_type": "code",
   "execution_count": 44,
   "id": "5d857c42",
   "metadata": {},
   "outputs": [],
   "source": [
    "motorname='RShoulderPitch'\n",
    "df[motorname]=0\n",
    "\n",
    "#motorname='RShoulderRoll'\n",
    "#df[motorname]=-1.33\n",
    "\n",
    "#motorname='RElbowRoll'\n",
    "#df[motorname]=1.54\n",
    "\n",
    "#motorname='RElbowYaw'\n",
    "#df[motorname]=2.09\n",
    "\n",
    "\n",
    "motorname='LShoulderPitch'\n",
    "df[motorname]=0\n",
    "\n",
    "\n",
    "#motorname='LShoulderRoll'\n",
    "#df[motorname]=1.33\n",
    "\n",
    "#motorname='LElbowRoll'\n",
    "#df[motorname]=-1.54"
   ]
  },
  {
   "cell_type": "code",
   "execution_count": 76,
   "id": "1cf37215",
   "metadata": {
    "scrolled": true
   },
   "outputs": [
    {
     "name": "stdout",
     "output_type": "stream",
     "text": [
      "   #WEBOTS_MOTION    V1.0  LHipYawPitch  LHipRoll  LHipPitch  LKneePitch  \\\n",
      "0       00:00:000   Pose1             0     0.027     -0.505       1.042   \n",
      "1       00:00:040   Pose2             0     0.000     -0.524       1.047   \n",
      "2       00:00:080   Pose3             0     0.000     -0.524       1.047   \n",
      "3       00:00:120   Pose4             0     0.000     -0.523       1.047   \n",
      "4       00:00:160   Pose5             0    -0.001     -0.523       1.047   \n",
      "..            ...     ...           ...       ...        ...         ...   \n",
      "61      00:02:440  Pose62             0    -0.087     -0.453       1.016   \n",
      "62      00:02:480  Pose63             0    -0.065     -0.473       1.028   \n",
      "63      00:02:520  Pose64             0    -0.052     -0.484       1.033   \n",
      "64      00:02:560  Pose65             0    -0.040     -0.494       1.037   \n",
      "65      00:02:600  Pose66             0    -0.031     -0.501       1.040   \n",
      "\n",
      "    LAnklePitch  LAnkleRoll  RHipYawPitch  RHipRoll  RHipPitch  RKneePitch  \\\n",
      "0        -0.537      -0.027             0     0.027     -0.505       1.042   \n",
      "1        -0.524       0.000             0     0.000     -0.524       1.047   \n",
      "2        -0.524       0.000             0     0.000     -0.524       1.047   \n",
      "3        -0.524       0.000             0     0.000     -0.523       1.047   \n",
      "4        -0.524       0.001             0    -0.001     -0.523       1.047   \n",
      "..          ...         ...           ...       ...        ...         ...   \n",
      "61       -0.563       0.087             0    -0.087     -0.453       1.016   \n",
      "62       -0.554       0.065             0    -0.065     -0.473       1.028   \n",
      "63       -0.549       0.052             0    -0.052     -0.484       1.033   \n",
      "64       -0.544       0.040             0    -0.040     -0.494       1.037   \n",
      "65       -0.539       0.031             0    -0.031     -0.501       1.040   \n",
      "\n",
      "    RAnklePitch  RAnkleRoll  \n",
      "0        -0.537      -0.027  \n",
      "1        -0.524       0.000  \n",
      "2        -0.524       0.000  \n",
      "3        -0.524       0.000  \n",
      "4        -0.524       0.001  \n",
      "..          ...         ...  \n",
      "61       -0.563       0.087  \n",
      "62       -0.554       0.065  \n",
      "63       -0.549       0.052  \n",
      "64       -0.544       0.040  \n",
      "65       -0.539       0.031  \n",
      "\n",
      "[66 rows x 14 columns]\n"
     ]
    }
   ],
   "source": [
    "tm=np.arange(0,20*L,20)\n",
    "timelit=[]\n",
    "for t in tm:\n",
    "    hours = 0\n",
    "    seconds = (t % 1000)\n",
    "    minutes = (t -seconds) // 1000\n",
    "     \n",
    "    timelit.append('{:02d}:{:02d}:{:03d}'.format(hours, minutes, seconds))\n",
    "timelit\n",
    "\n",
    "#droplist=['LShoulderPitch','LShoulderRoll','LElbowYaw','LElbowRoll','RShoulderPitch','RShoulderRoll','RElbowYaw','RElbowRoll']\n",
    "#df = df.drop(droplist, axis=1)\n",
    "#df['#WEBOTS_MOTION']=timelit\n",
    "print(df)\n",
    "df['LHipPitch']=df['LHipPitch']-.085\n",
    "df['RHipPitch']=df['RHipPitch']-.085\n",
    "df['LShoulderPitch']=-.09\n",
    "df['RShoulderPitch']=-.09\n",
    "\n",
    "df.to_csv('MoveForward.motion',index=False)"
   ]
  },
  {
   "cell_type": "code",
   "execution_count": 16,
   "id": "e45d37c4",
   "metadata": {},
   "outputs": [
    {
     "data": {
      "text/plain": [
       "'00:04:920'"
      ]
     },
     "execution_count": 16,
     "metadata": {},
     "output_type": "execute_result"
    }
   ],
   "source": [
    "df['#WEBOTS_MOTION'][123]"
   ]
  },
  {
   "cell_type": "code",
   "execution_count": 32,
   "id": "30b100cd",
   "metadata": {},
   "outputs": [
    {
     "data": {
      "text/plain": [
       "['00:00:000',\n",
       " '00:00:020',\n",
       " '00:00:040',\n",
       " '00:00:060',\n",
       " '00:00:080',\n",
       " '00:00:100',\n",
       " '00:00:120',\n",
       " '00:00:140',\n",
       " '00:00:160',\n",
       " '00:00:180',\n",
       " '00:00:200',\n",
       " '00:00:220',\n",
       " '00:00:240',\n",
       " '00:00:260',\n",
       " '00:00:280',\n",
       " '00:00:300',\n",
       " '00:00:320',\n",
       " '00:00:340',\n",
       " '00:00:360',\n",
       " '00:00:380',\n",
       " '00:00:400',\n",
       " '00:00:420',\n",
       " '00:00:440',\n",
       " '00:00:460',\n",
       " '00:00:480',\n",
       " '00:00:500',\n",
       " '00:00:520',\n",
       " '00:00:540',\n",
       " '00:00:560',\n",
       " '00:00:580',\n",
       " '00:00:600',\n",
       " '00:00:620',\n",
       " '00:00:640',\n",
       " '00:00:660',\n",
       " '00:00:680',\n",
       " '00:00:700',\n",
       " '00:00:720',\n",
       " '00:00:740',\n",
       " '00:00:760',\n",
       " '00:00:780',\n",
       " '00:00:800',\n",
       " '00:00:820',\n",
       " '00:00:840',\n",
       " '00:00:860',\n",
       " '00:00:880',\n",
       " '00:00:900',\n",
       " '00:00:920',\n",
       " '00:00:940',\n",
       " '00:00:960',\n",
       " '00:00:980',\n",
       " '00:01:000',\n",
       " '00:01:020',\n",
       " '00:01:040',\n",
       " '00:01:060',\n",
       " '00:01:080',\n",
       " '00:01:100',\n",
       " '00:01:120',\n",
       " '00:01:140',\n",
       " '00:01:160',\n",
       " '00:01:180',\n",
       " '00:01:200',\n",
       " '00:01:220',\n",
       " '00:01:240',\n",
       " '00:01:260',\n",
       " '00:01:280',\n",
       " '00:01:300',\n",
       " '00:01:320',\n",
       " '00:01:340',\n",
       " '00:01:360',\n",
       " '00:01:380',\n",
       " '00:01:400',\n",
       " '00:01:420',\n",
       " '00:01:440',\n",
       " '00:01:460',\n",
       " '00:01:480',\n",
       " '00:01:500',\n",
       " '00:01:520',\n",
       " '00:01:540',\n",
       " '00:01:560',\n",
       " '00:01:580',\n",
       " '00:01:600',\n",
       " '00:01:620',\n",
       " '00:01:640',\n",
       " '00:01:660',\n",
       " '00:01:680',\n",
       " '00:01:700',\n",
       " '00:01:720',\n",
       " '00:01:740',\n",
       " '00:01:760',\n",
       " '00:01:780',\n",
       " '00:01:800',\n",
       " '00:01:820',\n",
       " '00:01:840',\n",
       " '00:01:860',\n",
       " '00:01:880',\n",
       " '00:01:900',\n",
       " '00:01:920',\n",
       " '00:01:940',\n",
       " '00:01:960',\n",
       " '00:01:980',\n",
       " '00:02:000',\n",
       " '00:02:020',\n",
       " '00:02:040',\n",
       " '00:02:060',\n",
       " '00:02:080',\n",
       " '00:02:100',\n",
       " '00:02:120',\n",
       " '00:02:140',\n",
       " '00:02:160',\n",
       " '00:02:180',\n",
       " '00:02:200',\n",
       " '00:02:220',\n",
       " '00:02:240',\n",
       " '00:02:260',\n",
       " '00:02:280',\n",
       " '00:02:300',\n",
       " '00:02:320',\n",
       " '00:02:340',\n",
       " '00:02:360',\n",
       " '00:02:380',\n",
       " '00:02:400',\n",
       " '00:02:420',\n",
       " '00:02:440',\n",
       " '00:02:460']"
      ]
     },
     "execution_count": 32,
     "metadata": {},
     "output_type": "execute_result"
    }
   ],
   "source": []
  },
  {
   "cell_type": "code",
   "execution_count": null,
   "id": "66e16b26",
   "metadata": {},
   "outputs": [],
   "source": []
  }
 ],
 "metadata": {
  "kernelspec": {
   "display_name": "Python 3 (ipykernel)",
   "language": "python",
   "name": "python3"
  },
  "language_info": {
   "codemirror_mode": {
    "name": "ipython",
    "version": 3
   },
   "file_extension": ".py",
   "mimetype": "text/x-python",
   "name": "python",
   "nbconvert_exporter": "python",
   "pygments_lexer": "ipython3",
   "version": "3.9.13"
  }
 },
 "nbformat": 4,
 "nbformat_minor": 5
}
